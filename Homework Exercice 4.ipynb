{
  "metadata": {
    "kernelspec": {
      "name": "python",
      "display_name": "Python (Pyodide)",
      "language": "python"
    },
    "language_info": {
      "codemirror_mode": {
        "name": "python",
        "version": 3
      },
      "file_extension": ".py",
      "mimetype": "text/x-python",
      "name": "python",
      "nbconvert_exporter": "python",
      "pygments_lexer": "ipython3",
      "version": "3.8"
    }
  },
  "nbformat_minor": 4,
  "nbformat": 4,
  "cells": [
    {
      "cell_type": "code",
      "source": "def how_much_i_like_you(nb_petals):\n    phrases = [\n        \"I like you a little\",  \n        \"a lot\",                \n        \"passionately\",         \n        \"madly\",                \n        \"not at all\"            \n    ]\n    index = (nb_petals - 1) % 5\n    \n    return phrases[index]\n    pass",
      "metadata": {
        "trusted": true
      },
      "outputs": [],
      "execution_count": null
    }
  ]
}