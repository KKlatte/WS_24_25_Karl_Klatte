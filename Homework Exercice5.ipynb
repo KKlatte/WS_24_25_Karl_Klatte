{
  "metadata": {
    "kernelspec": {
      "name": "python",
      "display_name": "Python (Pyodide)",
      "language": "python"
    },
    "language_info": {
      "codemirror_mode": {
        "name": "python",
        "version": 3
      },
      "file_extension": ".py",
      "mimetype": "text/x-python",
      "name": "python",
      "nbconvert_exporter": "python",
      "pygments_lexer": "ipython3",
      "version": "3.8"
    }
  },
  "nbformat_minor": 4,
  "nbformat": 4,
  "cells": [
    {
      "cell_type": "code",
      "source": "def find_even_index(arr):\n    total_sum = sum(arr)  \n    left_sum = 0  \n    \n    for i in range(len(arr)):\n        \n        right_sum = total_sum - left_sum - arr[i]\n        if left_sum == right_sum:\n            return i  \n        \n        left_sum += arr[i]\n    \n    return -1 \n    pass",
      "metadata": {
        "trusted": true
      },
      "outputs": [],
      "execution_count": null
    }
  ]
}