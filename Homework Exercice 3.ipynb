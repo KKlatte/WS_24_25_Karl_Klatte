{
  "metadata": {
    "kernelspec": {
      "name": "python",
      "display_name": "Python (Pyodide)",
      "language": "python"
    },
    "language_info": {
      "codemirror_mode": {
        "name": "python",
        "version": 3
      },
      "file_extension": ".py",
      "mimetype": "text/x-python",
      "name": "python",
      "nbconvert_exporter": "python",
      "pygments_lexer": "ipython3",
      "version": "3.8"
    }
  },
  "nbformat_minor": 4,
  "nbformat": 4,
  "cells": [
    {
      "cell_type": "code",
      "source": "def basic_op(operator, value1, value2):\n    if operation == 'addieren':\n        return value1 + value2\n    if operation == 'subtrahieren':\n        return value1 - value2\n    if operation == 'multiplizieren':\n        return value1 * value2\n    if operation == 'dividieren':\n        return value1 / value2\n\n \n    pass",
      "metadata": {
        "trusted": true
      },
      "outputs": [],
      "execution_count": 1
    },
    {
      "cell_type": "code",
      "source": "",
      "metadata": {
        "trusted": true
      },
      "outputs": [],
      "execution_count": null
    }
  ]
}