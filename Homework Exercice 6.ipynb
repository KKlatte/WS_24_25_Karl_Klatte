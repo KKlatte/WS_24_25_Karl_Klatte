{
  "metadata": {
    "kernelspec": {
      "name": "python",
      "display_name": "Python (Pyodide)",
      "language": "python"
    },
    "language_info": {
      "codemirror_mode": {
        "name": "python",
        "version": 3
      },
      "file_extension": ".py",
      "mimetype": "text/x-python",
      "name": "python",
      "nbconvert_exporter": "python",
      "pygments_lexer": "ipython3",
      "version": "3.8"
    }
  },
  "nbformat_minor": 4,
  "nbformat": 4,
  "cells": [
    {
      "cell_type": "code",
      "source": "def numericals(your_str):\n    \n    char_count = {}\n    result = []\n    for char in s:\n        \n        if char in char_count:\n            result.append(str(char_count[char]))\n            char_count[char] += 1\n        else:\n            result.append('1')\n            char_count[char] = 1\n\n    return ''.join(result)\n    pass",
      "metadata": {
        "trusted": true
      },
      "outputs": [],
      "execution_count": null
    }
  ]
}